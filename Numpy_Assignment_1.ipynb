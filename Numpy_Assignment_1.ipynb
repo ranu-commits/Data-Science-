{
  "nbformat": 4,
  "nbformat_minor": 0,
  "metadata": {
    "colab": {
      "provenance": [],
      "authorship_tag": "ABX9TyNoShKbvxjDMEp46J0tSJOu",
      "include_colab_link": true
    },
    "kernelspec": {
      "name": "python3",
      "display_name": "Python 3"
    },
    "language_info": {
      "name": "python"
    }
  },
  "cells": [
    {
      "cell_type": "markdown",
      "metadata": {
        "id": "view-in-github",
        "colab_type": "text"
      },
      "source": [
        "<a href=\"https://colab.research.google.com/github/ranu-commits/Data-Science-/blob/main/Numpy_Assignment_1.ipynb\" target=\"_parent\"><img src=\"https://colab.research.google.com/assets/colab-badge.svg\" alt=\"Open In Colab\"/></a>"
      ]
    },
    {
      "cell_type": "markdown",
      "source": [
        "# **1. Array Creation**\n",
        "1. How do you create a NumPy array from a Python list [1, 2, 3, 4]?\n",
        "2. Create a NumPy array of shape (2, 3) filled with all zeros.\n",
        "3. Create a NumPy array of shape (4, 2) filled with all ones.\n",
        "4. How can you create a NumPy array with values ranging from 10 to 20, with a step\n",
        "size of 2?\n",
        "5. Create a 1D array of 10 equally spaced values between 1 and 5."
      ],
      "metadata": {
        "id": "4U2bnbI62YP5"
      }
    },
    {
      "cell_type": "code",
      "source": [
        "import numpy as np\n",
        "\n",
        "arr=np.array([1,2,3,4])\n",
        "arr"
      ],
      "metadata": {
        "colab": {
          "base_uri": "https://localhost:8080/"
        },
        "id": "VDibBBfR2baX",
        "outputId": "615ecd6c-1a56-41e8-eff7-700964a94147"
      },
      "execution_count": 2,
      "outputs": [
        {
          "output_type": "execute_result",
          "data": {
            "text/plain": [
              "array([1, 2, 3, 4])"
            ]
          },
          "metadata": {},
          "execution_count": 2
        }
      ]
    },
    {
      "cell_type": "code",
      "source": [
        "np.zeros((2,3))"
      ],
      "metadata": {
        "colab": {
          "base_uri": "https://localhost:8080/"
        },
        "id": "SpxZNAbz24Yj",
        "outputId": "941dcaa8-0b6c-4f0d-8957-434a4b9bde87"
      },
      "execution_count": 3,
      "outputs": [
        {
          "output_type": "execute_result",
          "data": {
            "text/plain": [
              "array([[0., 0., 0.],\n",
              "       [0., 0., 0.]])"
            ]
          },
          "metadata": {},
          "execution_count": 3
        }
      ]
    },
    {
      "cell_type": "code",
      "source": [
        "np.ones((4,2))"
      ],
      "metadata": {
        "colab": {
          "base_uri": "https://localhost:8080/"
        },
        "id": "mm-l_Lmr4KrN",
        "outputId": "6a7d12fb-c81e-4d75-d013-9f3a828e2e30"
      },
      "execution_count": 4,
      "outputs": [
        {
          "output_type": "execute_result",
          "data": {
            "text/plain": [
              "array([[1., 1.],\n",
              "       [1., 1.],\n",
              "       [1., 1.],\n",
              "       [1., 1.]])"
            ]
          },
          "metadata": {},
          "execution_count": 4
        }
      ]
    },
    {
      "cell_type": "code",
      "source": [
        "np.arange(10,20,2)"
      ],
      "metadata": {
        "colab": {
          "base_uri": "https://localhost:8080/"
        },
        "id": "3JRhLI2I4WYF",
        "outputId": "40f3a450-5832-4522-abeb-ef2d48a30a8a"
      },
      "execution_count": 5,
      "outputs": [
        {
          "output_type": "execute_result",
          "data": {
            "text/plain": [
              "array([10, 12, 14, 16, 18])"
            ]
          },
          "metadata": {},
          "execution_count": 5
        }
      ]
    },
    {
      "cell_type": "code",
      "source": [
        "np.linspace(1,5,10)"
      ],
      "metadata": {
        "colab": {
          "base_uri": "https://localhost:8080/"
        },
        "id": "odvQSjBm7V_x",
        "outputId": "c6da9056-46fc-4c3b-a570-05f658334e4c"
      },
      "execution_count": 6,
      "outputs": [
        {
          "output_type": "execute_result",
          "data": {
            "text/plain": [
              "array([1.        , 1.44444444, 1.88888889, 2.33333333, 2.77777778,\n",
              "       3.22222222, 3.66666667, 4.11111111, 4.55555556, 5.        ])"
            ]
          },
          "metadata": {},
          "execution_count": 6
        }
      ]
    },
    {
      "cell_type": "markdown",
      "source": [
        "# **2. Array Indexing and Slicing**\n",
        "1. Given the array arr = np.array([1, 2, 3, 4, 5]), access the third element.\n",
        "2. Slice the first three elements from the array arr = np.array([10, 20, 30, 40, 50]).\n",
        "3. Given the 2D array arr = np.array([[1, 2], [3, 4], [5, 6]]), access the element in the\n",
        "second row and first column.\n",
        "4. Extract the second column from the 2D array arr = np.array([[1, 2, 3], [4, 5, 6], [7, 8,\n",
        "9]]).\n",
        "5. Reverse the array arr = np.array([1, 2, 3, 4, 5]) using slicing."
      ],
      "metadata": {
        "id": "JEcwX9rB8aLe"
      }
    },
    {
      "cell_type": "code",
      "source": [
        "arr[2]"
      ],
      "metadata": {
        "colab": {
          "base_uri": "https://localhost:8080/"
        },
        "id": "0a6reAyX8CpY",
        "outputId": "24cce93e-73c7-4e98-a15f-39cf82e9dcdf"
      },
      "execution_count": 7,
      "outputs": [
        {
          "output_type": "execute_result",
          "data": {
            "text/plain": [
              "3"
            ]
          },
          "metadata": {},
          "execution_count": 7
        }
      ]
    },
    {
      "cell_type": "code",
      "source": [
        "arr[ :3]"
      ],
      "metadata": {
        "colab": {
          "base_uri": "https://localhost:8080/"
        },
        "id": "9fUTLxsy86T_",
        "outputId": "358e09f3-3274-44b1-fb5a-73b989575ffe"
      },
      "execution_count": 8,
      "outputs": [
        {
          "output_type": "execute_result",
          "data": {
            "text/plain": [
              "array([1, 2, 3])"
            ]
          },
          "metadata": {},
          "execution_count": 8
        }
      ]
    },
    {
      "cell_type": "code",
      "source": [
        "arr2=np.array([[1,2],[3,4],[5,6]])\n",
        "arr2"
      ],
      "metadata": {
        "colab": {
          "base_uri": "https://localhost:8080/"
        },
        "id": "h_nu7NWJ80GC",
        "outputId": "11389e3b-cbae-43a8-c3ae-9f729b43bbfc"
      },
      "execution_count": 9,
      "outputs": [
        {
          "output_type": "execute_result",
          "data": {
            "text/plain": [
              "array([[1, 2],\n",
              "       [3, 4],\n",
              "       [5, 6]])"
            ]
          },
          "metadata": {},
          "execution_count": 9
        }
      ]
    },
    {
      "cell_type": "code",
      "source": [
        "arr3=np.array([[1,2,3],[4,5,6],[7,8,9]])\n",
        "arr3"
      ],
      "metadata": {
        "colab": {
          "base_uri": "https://localhost:8080/"
        },
        "id": "qIH37S4Q9JIq",
        "outputId": "d4cb785a-f554-4ced-a7f0-3e15d19b6758"
      },
      "execution_count": 10,
      "outputs": [
        {
          "output_type": "execute_result",
          "data": {
            "text/plain": [
              "array([[1, 2, 3],\n",
              "       [4, 5, 6],\n",
              "       [7, 8, 9]])"
            ]
          },
          "metadata": {},
          "execution_count": 10
        }
      ]
    },
    {
      "cell_type": "code",
      "source": [
        "arr3[ :,1]"
      ],
      "metadata": {
        "colab": {
          "base_uri": "https://localhost:8080/"
        },
        "id": "9Obg0Hg29Yxj",
        "outputId": "8e20ab22-012d-4dd9-851f-308d0cbf1975"
      },
      "execution_count": 11,
      "outputs": [
        {
          "output_type": "execute_result",
          "data": {
            "text/plain": [
              "array([2, 5, 8])"
            ]
          },
          "metadata": {},
          "execution_count": 11
        }
      ]
    },
    {
      "cell_type": "code",
      "source": [
        "#Reverse\n",
        "arr[::-1]"
      ],
      "metadata": {
        "colab": {
          "base_uri": "https://localhost:8080/"
        },
        "id": "yIJuo_wQ_Knc",
        "outputId": "5678db26-25cb-4836-fc08-41c14c4d1a97"
      },
      "execution_count": 12,
      "outputs": [
        {
          "output_type": "execute_result",
          "data": {
            "text/plain": [
              "array([4, 3, 2, 1])"
            ]
          },
          "metadata": {},
          "execution_count": 12
        }
      ]
    },
    {
      "cell_type": "markdown",
      "source": [
        "# **3. Array Operations**\n",
        "1. Given two arrays a = np.array([1, 2, 3]) and b = np.array([4, 5, 6]), add them together.\n",
        "2. Subtract array b = np.array([4, 5, 6]) from array a = np.array([1, 2, 3]).\n",
        "3. Multiply the array a = np.array([1, 2, 3]) by a scalar value of 5.\n",
        "4. Divide the array a = np.array([10, 20, 30]) by a scalar value of 2.\n",
        "5. Perform element-wise square of the array a = np.array([1, 2, 3, 4])."
      ],
      "metadata": {
        "id": "t_Cb3lDgA7cK"
      }
    },
    {
      "cell_type": "code",
      "source": [
        "a=np.array([1,2,3])\n",
        "b=np.array([4,5,6])\n",
        "a+b\n",
        "a-b\n",
        "a*5\n",
        "b/2\n",
        "a**2"
      ],
      "metadata": {
        "colab": {
          "base_uri": "https://localhost:8080/"
        },
        "id": "xihGlp-N_b-y",
        "outputId": "a6eca6e8-ec5d-4944-d556-bd6896c0efd7"
      },
      "execution_count": 13,
      "outputs": [
        {
          "output_type": "execute_result",
          "data": {
            "text/plain": [
              "array([1, 4, 9])"
            ]
          },
          "metadata": {},
          "execution_count": 13
        }
      ]
    },
    {
      "cell_type": "markdown",
      "source": [
        "# **4. Array Reshaping**\n",
        "1. Given an array arr = np.array([1, 2, 3, 4, 5, 6]), reshape it into a (2, 3) array.\n",
        "2. Reshape the array arr = np.array([1, 2, 3, 4]) into a (4, 1) array.\n",
        "\n",
        "3. Reshape the array arr = np.array([1, 2, 3, 4, 5, 6]) into a (3, 2) array.\n",
        "4. Given a (4, 3) array, flatten it into a 1D array.\n",
        "5. Convert a 1D array arr = np.array([1, 2, 3, 4, 5, 6, 7, 8]) into a 2D array with shape (2,\n",
        "4)."
      ],
      "metadata": {
        "id": "bF0kZRjTCAz8"
      }
    },
    {
      "cell_type": "code",
      "source": [
        "arr1=np.array([1,2,3,4,5,6])\n",
        "arr1.reshape(2,3)\n",
        "arr1.reshape(6,1)\n",
        "arr1.reshape(3,2)\n",
        "arr2=np.array([[1,2,3],[4,5,6],[7,8,9],[1,2,0]])\n",
        "arr2\n",
        "arr2.reshape(1,12)\n",
        "arr3=np.array([1,2,3,4,5,6,7,8])\n",
        "arr3.reshape(2,4)"
      ],
      "metadata": {
        "colab": {
          "base_uri": "https://localhost:8080/"
        },
        "id": "T6_BrVjA_cBu",
        "outputId": "78d973d0-855d-415b-df00-b2d9519e146e"
      },
      "execution_count": 14,
      "outputs": [
        {
          "output_type": "execute_result",
          "data": {
            "text/plain": [
              "array([[1, 2, 3, 4],\n",
              "       [5, 6, 7, 8]])"
            ]
          },
          "metadata": {},
          "execution_count": 14
        }
      ]
    },
    {
      "cell_type": "markdown",
      "source": [
        "# **5. Array Statistics and Aggregation**\n",
        "1. Find the sum of all elements in the array arr = np.array([1, 2, 3, 4, 5]).\n",
        "2. Find the maximum value in the array arr = np.array([10, 20, 30, 40, 50]).\n",
        "3. Calculate the mean of the array arr = np.array([1, 2, 3, 4, 5]).\n",
        "4. Find the standard deviation of the array arr = np.array([1, 4, 7, 10]).\n",
        "5. Given a 2D array arr = np.array([[1, 2, 3], [4, 5, 6]]), calculate the sum of each\n",
        "column."
      ],
      "metadata": {
        "id": "JSm7gQwTD7_o"
      }
    },
    {
      "cell_type": "code",
      "source": [
        "arr1=np.array([1,2,3,4,5,6])\n",
        "arr1.sum()\n",
        "arr1.max()\n",
        "arr1.mean()\n",
        "arr1.std()\n",
        "arr2=np.array([[1,2,3],[4,5,6],[7,8,9]])\n",
        "arr2.sum(axis=0) # column wise sum"
      ],
      "metadata": {
        "colab": {
          "base_uri": "https://localhost:8080/"
        },
        "id": "Z9OLtdzh_cE0",
        "outputId": "a8358b3d-9448-441d-d9a4-272e8b5cb960"
      },
      "execution_count": 15,
      "outputs": [
        {
          "output_type": "execute_result",
          "data": {
            "text/plain": [
              "array([12, 15, 18])"
            ]
          },
          "metadata": {},
          "execution_count": 15
        }
      ]
    },
    {
      "cell_type": "markdown",
      "source": [
        "# **6. Array Broadcasting**\n",
        "1. Add a scalar value of 5 to the array arr = np.array([1, 2, 3]).\n",
        "2. Multiply each element of the array arr = np.array([1, 2, 3]) by a scalar value of 2.\n",
        "3. Add the arrays a = np.array([1, 2, 3]) and b = np.array([4, 5, 6]).\n",
        "4. Multiply a 1D array a = np.array([1, 2, 3]) with a 2D array b = np.array([[1], [2], [3]]).\n",
        "5. Subtract a scalar value of 10 from each element of the array arr = np.array([15, 20,\n",
        "25])."
      ],
      "metadata": {
        "id": "gyZIgAKXFrW0"
      }
    },
    {
      "cell_type": "code",
      "source": [
        "arr=np.array([1,2,3])\n",
        "arr +5\n",
        "arr *2\n",
        "a,b=np.array([1,2,3]),np.array([4,5,6])\n",
        "a+b\n",
        "a*b\n",
        "np.array([15,20,30]) -10"
      ],
      "metadata": {
        "colab": {
          "base_uri": "https://localhost:8080/"
        },
        "id": "1q-HEO2u_cHz",
        "outputId": "855da998-b2b3-4182-db89-c799475884df"
      },
      "execution_count": 16,
      "outputs": [
        {
          "output_type": "execute_result",
          "data": {
            "text/plain": [
              "array([ 5, 10, 20])"
            ]
          },
          "metadata": {},
          "execution_count": 16
        }
      ]
    },
    {
      "cell_type": "markdown",
      "source": [
        "# **7. Random Number Generation**\n",
        "1. Generate a random float between 0 and 1.\n",
        "2. Create an array of 5 random integers between 1 and 10 (inclusive).\n",
        "3. Create a 2x3 array of random integers between 1 and 100.\n",
        "4. Create a random 3x3 matrix from a normal distribution with mean 0 and standard\n",
        "deviation 1.\n",
        "\n",
        "5. Set a seed of 42 and generate a 4x4 array of random numbers between 0 and 1."
      ],
      "metadata": {
        "id": "UM1aH3TqJrdF"
      }
    },
    {
      "cell_type": "code",
      "source": [
        "np.random.rand(3,2)"
      ],
      "metadata": {
        "colab": {
          "base_uri": "https://localhost:8080/"
        },
        "id": "q17kTO2b_cLh",
        "outputId": "6e4676e6-b9c9-4696-cc60-f98649bde345"
      },
      "execution_count": 17,
      "outputs": [
        {
          "output_type": "execute_result",
          "data": {
            "text/plain": [
              "array([[0.80757195, 0.16347657],\n",
              "       [0.52590182, 0.79706047],\n",
              "       [0.20258111, 0.94086352]])"
            ]
          },
          "metadata": {},
          "execution_count": 17
        }
      ]
    },
    {
      "cell_type": "code",
      "source": [
        "np.random.randint(1,10,5)"
      ],
      "metadata": {
        "colab": {
          "base_uri": "https://localhost:8080/"
        },
        "id": "I6UqUnQy_cNd",
        "outputId": "ac3066d1-edc9-4dae-aed6-f347c202021b"
      },
      "execution_count": 18,
      "outputs": [
        {
          "output_type": "execute_result",
          "data": {
            "text/plain": [
              "array([8, 6, 4, 4, 3])"
            ]
          },
          "metadata": {},
          "execution_count": 18
        }
      ]
    },
    {
      "cell_type": "code",
      "source": [
        "np.random.randint(1,100,(2,3))"
      ],
      "metadata": {
        "colab": {
          "base_uri": "https://localhost:8080/"
        },
        "id": "F-XpOCQx_cQg",
        "outputId": "dfe2c347-1e22-4aae-a989-a18b67560810"
      },
      "execution_count": 19,
      "outputs": [
        {
          "output_type": "execute_result",
          "data": {
            "text/plain": [
              "array([[23, 38, 62],\n",
              "       [97, 79, 97]])"
            ]
          },
          "metadata": {},
          "execution_count": 19
        }
      ]
    },
    {
      "cell_type": "code",
      "source": [
        "np.random.randint(0,1,(3,3))"
      ],
      "metadata": {
        "colab": {
          "base_uri": "https://localhost:8080/"
        },
        "id": "amzDXNjU_cT0",
        "outputId": "8d8abe1e-f479-4b45-9e44-9c7fe6663080"
      },
      "execution_count": 20,
      "outputs": [
        {
          "output_type": "execute_result",
          "data": {
            "text/plain": [
              "array([[0, 0, 0],\n",
              "       [0, 0, 0],\n",
              "       [0, 0, 0]])"
            ]
          },
          "metadata": {},
          "execution_count": 20
        }
      ]
    },
    {
      "cell_type": "code",
      "source": [
        "np.random.rand(4,4)\n"
      ],
      "metadata": {
        "colab": {
          "base_uri": "https://localhost:8080/"
        },
        "id": "2cVD43J8LRVP",
        "outputId": "e1cf7de7-fd95-4376-f5be-3e1507ea6a86"
      },
      "execution_count": 21,
      "outputs": [
        {
          "output_type": "execute_result",
          "data": {
            "text/plain": [
              "array([[0.99599747, 0.75984336, 0.41318278, 0.69739156],\n",
              "       [0.80682945, 0.30062629, 0.89611428, 0.06747098],\n",
              "       [0.70039253, 0.05540496, 0.10019088, 0.39742915],\n",
              "       [0.49330677, 0.59701593, 0.52818962, 0.00941713]])"
            ]
          },
          "metadata": {},
          "execution_count": 21
        }
      ]
    },
    {
      "cell_type": "code",
      "source": [
        "seed=np.random.seed(42)\n",
        "print(seed)"
      ],
      "metadata": {
        "colab": {
          "base_uri": "https://localhost:8080/"
        },
        "id": "VyJJcJjDLRX6",
        "outputId": "ac633baa-bf2a-4772-8db3-161177a72496"
      },
      "execution_count": 22,
      "outputs": [
        {
          "output_type": "stream",
          "name": "stdout",
          "text": [
            "None\n"
          ]
        }
      ]
    },
    {
      "cell_type": "markdown",
      "source": [
        "# **8. Array Conditions and Filtering**\n",
        "1. Given the array arr = np.array([1, 2, 3, 4, 5]), filter out elements that are greater than 3.\n",
        "2. Check if all elements in the array arr = np.array([True, False, True]) are True.\n",
        "3. Find the indices of elements in the array arr = np.array([1, 2, 3, 4, 5]) that are greater\n",
        "than 2.\n",
        "4. Create a boolean array where the elements of arr = np.array([10, 20, 30, 40, 50]) are\n",
        "less than 30.\n",
        "5. Use np.where() to find elements greater than 15 in the array arr = np.array([10, 20,\n",
        "30, 40, 50]) and replace them with 100."
      ],
      "metadata": {
        "id": "FlBYzDtLNPhX"
      }
    },
    {
      "cell_type": "code",
      "source": [
        "[np.array([1,2,3,4,5])>3]"
      ],
      "metadata": {
        "colab": {
          "base_uri": "https://localhost:8080/"
        },
        "id": "439J67OeNwgA",
        "outputId": "8d5b1b31-f441-4f2d-c3a2-7ff9a6f7a2bb"
      },
      "execution_count": 23,
      "outputs": [
        {
          "output_type": "execute_result",
          "data": {
            "text/plain": [
              "[array([False, False, False,  True,  True])]"
            ]
          },
          "metadata": {},
          "execution_count": 23
        }
      ]
    },
    {
      "cell_type": "code",
      "source": [
        "arr1=np.array([1,2,3,4,5])\n",
        "arr[arr1 >3]"
      ],
      "metadata": {
        "colab": {
          "base_uri": "https://localhost:8080/",
          "height": 176
        },
        "id": "8JcfsI-CLRbd",
        "outputId": "68fb4f74-6eb0-400b-c7a8-932e36b91602"
      },
      "execution_count": 24,
      "outputs": [
        {
          "output_type": "error",
          "ename": "IndexError",
          "evalue": "boolean index did not match indexed array along dimension 0; dimension is 3 but corresponding boolean dimension is 5",
          "traceback": [
            "\u001b[0;31m---------------------------------------------------------------------------\u001b[0m",
            "\u001b[0;31mIndexError\u001b[0m                                Traceback (most recent call last)",
            "\u001b[0;32m<ipython-input-24-329437360ff9>\u001b[0m in \u001b[0;36m<cell line: 2>\u001b[0;34m()\u001b[0m\n\u001b[1;32m      1\u001b[0m \u001b[0marr1\u001b[0m\u001b[0;34m=\u001b[0m\u001b[0mnp\u001b[0m\u001b[0;34m.\u001b[0m\u001b[0marray\u001b[0m\u001b[0;34m(\u001b[0m\u001b[0;34m[\u001b[0m\u001b[0;36m1\u001b[0m\u001b[0;34m,\u001b[0m\u001b[0;36m2\u001b[0m\u001b[0;34m,\u001b[0m\u001b[0;36m3\u001b[0m\u001b[0;34m,\u001b[0m\u001b[0;36m4\u001b[0m\u001b[0;34m,\u001b[0m\u001b[0;36m5\u001b[0m\u001b[0;34m]\u001b[0m\u001b[0;34m)\u001b[0m\u001b[0;34m\u001b[0m\u001b[0;34m\u001b[0m\u001b[0m\n\u001b[0;32m----> 2\u001b[0;31m \u001b[0marr\u001b[0m\u001b[0;34m[\u001b[0m\u001b[0marr1\u001b[0m \u001b[0;34m>\u001b[0m\u001b[0;36m3\u001b[0m\u001b[0;34m]\u001b[0m\u001b[0;34m\u001b[0m\u001b[0;34m\u001b[0m\u001b[0m\n\u001b[0m",
            "\u001b[0;31mIndexError\u001b[0m: boolean index did not match indexed array along dimension 0; dimension is 3 but corresponding boolean dimension is 5"
          ]
        }
      ]
    },
    {
      "cell_type": "code",
      "source": [
        "arr=np.array([True,False,True])\n",
        "arr[arr==True]"
      ],
      "metadata": {
        "id": "SVP8uSF6LRer"
      },
      "execution_count": null,
      "outputs": []
    },
    {
      "cell_type": "code",
      "source": [
        "np.where(arr1>2)"
      ],
      "metadata": {
        "id": "gGP8xom6LRiY"
      },
      "execution_count": null,
      "outputs": []
    },
    {
      "cell_type": "code",
      "source": [
        "[np.array([10,20,30,40,50])<30]"
      ],
      "metadata": {
        "id": "9teI-_LmLRoh"
      },
      "execution_count": null,
      "outputs": []
    },
    {
      "cell_type": "code",
      "source": [
        "arr1=np.array([10,20,30,40,50])\n",
        "np.where(arr1>15,100,arr1)"
      ],
      "metadata": {
        "id": "WegX8137QTwC"
      },
      "execution_count": null,
      "outputs": []
    },
    {
      "cell_type": "markdown",
      "source": [
        "# **9. Linear Algebra Operations**\n",
        "1. Find the dot product of two vectors a = np.array([1, 2]) and b = np.array([3, 4]).\n",
        "2. Given two 2D arrays A = np.array([[1, 2], [3, 4]]) and B = np.array([[5, 6], [7, 8]]),\n",
        "calculate the matrix multiplication of A and B.\n",
        "3. Find the determinant of the matrix A = np.array([[1, 2], [3, 4]]).\n",
        "4. Compute the inverse of the matrix A = np.array([[1, 2], [3, 4]]).\n",
        "5. Find the eigenvalues of the matrix A = np.array([[4, 2], [1, 3]])."
      ],
      "metadata": {
        "id": "OR__4n3ZRzhI"
      }
    },
    {
      "cell_type": "code",
      "source": [
        "a=np.array([1,2])\n",
        "b=np.array([3,4])\n",
        "np.dot(a,b)"
      ],
      "metadata": {
        "colab": {
          "base_uri": "https://localhost:8080/"
        },
        "id": "LH0AZcMqRUBK",
        "outputId": "3215dffe-096b-47ea-9bf9-4f1988cb4801"
      },
      "execution_count": 25,
      "outputs": [
        {
          "output_type": "execute_result",
          "data": {
            "text/plain": [
              "11"
            ]
          },
          "metadata": {},
          "execution_count": 25
        }
      ]
    },
    {
      "cell_type": "code",
      "source": [
        "A=np.array([[1,2],[3,4]])\n",
        "B=np.array([[5,6],[7,8]])\n",
        "np.matmul(A,B) # Matrix Multiplication"
      ],
      "metadata": {
        "id": "5CLGGes0RyYO"
      },
      "execution_count": null,
      "outputs": []
    },
    {
      "cell_type": "code",
      "source": [
        "determinant=np.linalg.det(A)\n",
        "determinant"
      ],
      "metadata": {
        "id": "fRwBiklNRycH"
      },
      "execution_count": null,
      "outputs": []
    },
    {
      "cell_type": "code",
      "source": [
        "inverse=np.linalg.inv(A)\n",
        "inverse"
      ],
      "metadata": {
        "id": "XPaK9_wnRyfP"
      },
      "execution_count": null,
      "outputs": []
    },
    {
      "cell_type": "code",
      "source": [
        "eignavalue=np.linalg.eig(A)\n",
        "eignavalue"
      ],
      "metadata": {
        "id": "kBK7lBt-Ryim"
      },
      "execution_count": null,
      "outputs": []
    },
    {
      "cell_type": "code",
      "source": [
        "print(np.random.randint(1,10))\n",
        "print(np.random.seed(42))\n",
        "print(np.random.randint(1,10))\n",
        "print(np.random.seed(2))\n",
        "print(np.random.randint(1,10))\n",
        "print(np.random.seed(42))\n",
        "print(np.random.randint(1,10))"
      ],
      "metadata": {
        "id": "zOvCYf97Ryle"
      },
      "execution_count": null,
      "outputs": []
    },
    {
      "cell_type": "markdown",
      "source": [
        "# **10. Set Operations with Arrays**\n",
        "1. Given two arrays a = np.array([1, 2, 3]) and b = np.array([3, 4, 5]), find their union.\n",
        "2. Find the intersection of arrays a = np.array([1, 2, 3]) and b = np.array([3, 4, 5]).\n",
        "3. Given arrays a = np.array([1, 2, 3]) and b = np.array([2, 3, 4]), find the difference\n",
        "between them (a - b).\n",
        "4. Find the symmetric difference between a = np.array([1, 2, 3]) and b = np.array([3, 4,\n",
        "5]).\n",
        "\n",
        "5. Check if a = np.array([1, 2, 3]) is a subset of b = np.array([1, 2, 3, 4])."
      ],
      "metadata": {
        "id": "NRuzy3IjVqS3"
      }
    },
    {
      "cell_type": "code",
      "source": [
        "a=np.array([1,2,3])\n",
        "b=np.array([3,4,5])\n",
        "np.union1d(a,b)"
      ],
      "metadata": {
        "colab": {
          "base_uri": "https://localhost:8080/"
        },
        "id": "QDYzSSOUrHox",
        "outputId": "0321410c-cbbb-47da-ae82-14cedccccf1f"
      },
      "execution_count": 27,
      "outputs": [
        {
          "output_type": "execute_result",
          "data": {
            "text/plain": [
              "array([1, 2, 3, 4, 5])"
            ]
          },
          "metadata": {},
          "execution_count": 27
        }
      ]
    },
    {
      "cell_type": "code",
      "source": [
        "np.intersect1d(a,b)"
      ],
      "metadata": {
        "colab": {
          "base_uri": "https://localhost:8080/"
        },
        "id": "Xra17EnEVtjD",
        "outputId": "42bf8091-1080-488d-8855-870ab6f840a6"
      },
      "execution_count": 28,
      "outputs": [
        {
          "output_type": "execute_result",
          "data": {
            "text/plain": [
              "array([3])"
            ]
          },
          "metadata": {},
          "execution_count": 28
        }
      ]
    },
    {
      "cell_type": "code",
      "source": [
        "np.setdiff1d(a,b)"
      ],
      "metadata": {
        "colab": {
          "base_uri": "https://localhost:8080/"
        },
        "id": "krfc-Y7tq8Fw",
        "outputId": "9e906e0e-e7e0-4449-9a7e-7572c21efb63"
      },
      "execution_count": 29,
      "outputs": [
        {
          "output_type": "execute_result",
          "data": {
            "text/plain": [
              "array([1, 2])"
            ]
          },
          "metadata": {},
          "execution_count": 29
        }
      ]
    },
    {
      "cell_type": "code",
      "source": [
        "np.setxor1d(a,b)"
      ],
      "metadata": {
        "colab": {
          "base_uri": "https://localhost:8080/"
        },
        "id": "DckTjkTQq8JA",
        "outputId": "a8d39888-c9b0-43a1-c56b-db732e44eedc"
      },
      "execution_count": 30,
      "outputs": [
        {
          "output_type": "execute_result",
          "data": {
            "text/plain": [
              "array([1, 2, 4, 5])"
            ]
          },
          "metadata": {},
          "execution_count": 30
        }
      ]
    },
    {
      "cell_type": "code",
      "source": [
        "np.all(np.in1d(a,b))"
      ],
      "metadata": {
        "colab": {
          "base_uri": "https://localhost:8080/"
        },
        "id": "b15tE3q3q8L1",
        "outputId": "2b490c27-2bcd-433b-f64b-a0194cab6793"
      },
      "execution_count": 32,
      "outputs": [
        {
          "output_type": "execute_result",
          "data": {
            "text/plain": [
              "False"
            ]
          },
          "metadata": {},
          "execution_count": 32
        }
      ]
    },
    {
      "cell_type": "code",
      "source": [],
      "metadata": {
        "id": "FdWLKn9Eq8O-"
      },
      "execution_count": null,
      "outputs": []
    },
    {
      "cell_type": "code",
      "source": [],
      "metadata": {
        "id": "MRL6KsxCVtmv"
      },
      "execution_count": null,
      "outputs": []
    }
  ]
}